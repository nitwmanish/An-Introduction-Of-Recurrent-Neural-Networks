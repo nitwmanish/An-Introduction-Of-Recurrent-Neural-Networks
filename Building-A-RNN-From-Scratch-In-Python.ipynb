{
 "cells": [
  {
   "cell_type": "markdown",
   "metadata": {},
   "source": [
    "# Building A RNN From Scratch"
   ]
  },
  {
   "cell_type": "markdown",
   "metadata": {},
   "source": [
    "Import the modules."
   ]
  },
  {
   "cell_type": "code",
   "execution_count": 1,
   "metadata": {},
   "outputs": [
    {
     "name": "stderr",
     "output_type": "stream",
     "text": [
      "Using TensorFlow backend.\n"
     ]
    }
   ],
   "source": [
    "import numpy as np\n",
    "from collections import Counter\n",
    "from keras.layers import LSTM\n",
    "from keras.layers import Dense\n",
    "from keras.layers import Flatten\n",
    "from keras.models import Sequential\n",
    "from keras.utils import to_categorical\n",
    "from keras.preprocessing.text import one_hot\n",
    "from keras.layers.recurrent import SimpleRNN\n",
    "from keras.layers.embeddings import Embedding\n",
    "from keras.preprocessing.sequence import pad_sequences"
   ]
  },
  {
   "cell_type": "markdown",
   "metadata": {},
   "source": [
    "Let's consider an example text: \"This is an example.\"\n",
    "\n",
    "Define the input and output."
   ]
  },
  {
   "cell_type": "code",
   "execution_count": 2,
   "metadata": {},
   "outputs": [],
   "source": [
    "#define documents\n",
    "docs = ['this is','is an']\n",
    "# define class labels\n",
    "labels = ['an','example']"
   ]
  },
  {
   "cell_type": "markdown",
   "metadata": {},
   "source": [
    "The strategy that we'll adopt to build an RNN is as follows:\n",
    "\n",
    "* 1. One-hot encode the words.\n",
    "* 2. Identify the maximum length of input:Pad the rest of input to the maximum length so that all the inputs are of the same length.\n",
    "* 3. Convert the words in the input into a one-hot-encoded version.\n",
    "* 4. Convert the words in the output into a one-hot-encoded version.\n",
    "* 5. Process the input and the output data, then fit the RNN model."
   ]
  },
  {
   "cell_type": "markdown",
   "metadata": {},
   "source": [
    "Preprocess our dataset so that it can be passed to an RNN.\n",
    "\n",
    "In the code \n",
    "* Identifying all the unique words and their corresponding frequency (counts) in the dataset. \n",
    "* Assigning an ID number to each word."
   ]
  },
  {
   "cell_type": "code",
   "execution_count": 3,
   "metadata": {},
   "outputs": [],
   "source": [
    "counts = Counter()\n",
    "for i,review in enumerate(docs+labels):\n",
    "    counts.update(review.split())\n",
    "words = sorted(counts, key=counts.get, reverse=True)\n",
    "vocab_size=len(words)\n",
    "word_to_int = {word: i for i, word in enumerate(words, 1)}"
   ]
  },
  {
   "cell_type": "markdown",
   "metadata": {},
   "source": [
    "print word_to_int."
   ]
  },
  {
   "cell_type": "code",
   "execution_count": 4,
   "metadata": {},
   "outputs": [
    {
     "data": {
      "text/plain": [
       "{'is': 1, 'an': 2, 'this': 3, 'example': 4}"
      ]
     },
     "execution_count": 4,
     "metadata": {},
     "output_type": "execute_result"
    }
   ],
   "source": [
    "word_to_int"
   ]
  },
  {
   "cell_type": "markdown",
   "metadata": {},
   "source": [
    "Modify the input and output words with their corresponding IDs.\n",
    "\n",
    "* Appending the ID of each word of an input sentence into a list, thus making the input (encoded_docs) a list of lists.\n",
    "* Appending the ID of each word of the output into a list."
   ]
  },
  {
   "cell_type": "code",
   "execution_count": 5,
   "metadata": {},
   "outputs": [],
   "source": [
    "encoded_docs = []\n",
    "for doc in docs:\n",
    "    encoded_docs.append([word_to_int[word] for word in doc.split()])\n",
    "encoded_labels = []\n",
    "for label in labels:\n",
    "    encoded_labels.append([word_to_int[word] for word in label.split()])"
   ]
  },
  {
   "cell_type": "code",
   "execution_count": 6,
   "metadata": {},
   "outputs": [
    {
     "name": "stdout",
     "output_type": "stream",
     "text": [
      "encoded_docs:  [[3, 1], [1, 2]]\n",
      "encoded_labels:  [[2], [4]]\n"
     ]
    }
   ],
   "source": [
    "print('encoded_docs: ',encoded_docs)\n",
    "print('encoded_labels: ',encoded_labels)"
   ]
  },
  {
   "cell_type": "markdown",
   "metadata": {},
   "source": [
    "We also have to take care of input length while encoding the input. \n",
    "* In cases of sentiment analysis, the input text length can vary from one review to another. \n",
    "* The neural network expects the input size to be fixed. \n",
    "* To tackle this problem, we perform padding on top of the input. \n",
    "* Padding ensures that all inputs are encoded to have a similar length. "
   ]
  },
  {
   "cell_type": "markdown",
   "metadata": {},
   "source": [
    "In the code, we are passing encoded_docs to the pad_sequences function, which ensures that all the input data points have the same length—which is equal to the maxlen parameter.\n",
    "\n",
    "# For those parameters that are shorter than maxlen \n",
    "* It pads data points with a value of 0 to achieve a total length of maxlen and the zero padding is done pre so it will add pads value of 0, to the left of the original encoded sentence."
   ]
  },
  {
   "cell_type": "code",
   "execution_count": 7,
   "metadata": {},
   "outputs": [
    {
     "name": "stdout",
     "output_type": "stream",
     "text": [
      "[[3 1]\n",
      " [1 2]]\n"
     ]
    }
   ],
   "source": [
    "# pad documents to a max length of 2 words\n",
    "max_length = 2\n",
    "padded_docs = pad_sequences(encoded_docs, maxlen=max_length, padding='pre')\n",
    "print(padded_docs)"
   ]
  },
  {
   "cell_type": "markdown",
   "metadata": {},
   "source": [
    "* Now that the input dataset is created, let's preprocess the output dataset so that it can be passed to the model-training step.\n",
    "* The typical processing for outputs is to make them into dummy values, that is, make a one-hot-encoded version of the output labels."
   ]
  },
  {
   "cell_type": "code",
   "execution_count": 8,
   "metadata": {},
   "outputs": [
    {
     "name": "stdout",
     "output_type": "stream",
     "text": [
      "[[0. 0. 1. 0. 0.]\n",
      " [0. 0. 0. 0. 1.]]\n"
     ]
    }
   ],
   "source": [
    "# processing the output dataset\n",
    "one_hot_encoded_labels = to_categorical(encoded_labels, num_classes=5)\n",
    "print(one_hot_encoded_labels)"
   ]
  },
  {
   "cell_type": "markdown",
   "metadata": {},
   "source": [
    "Note: Given the output values (encoded_labels) are {2, 4}, the output vectors have a value of 1 at the second and fourth positions respectively."
   ]
  },
  {
   "cell_type": "markdown",
   "metadata": {},
   "source": [
    "# Let's build the model."
   ]
  },
  {
   "cell_type": "markdown",
   "metadata": {},
   "source": [
    "An RNN expects the input to be (batch_size, time_steps, and features_per_timestep) in shape. Hence, we first reshape the padded_docs input into the following format."
   ]
  },
  {
   "cell_type": "code",
   "execution_count": 9,
   "metadata": {},
   "outputs": [],
   "source": [
    "padded_docs = padded_docs.reshape(2,2,1)"
   ]
  },
  {
   "cell_type": "markdown",
   "metadata": {},
   "source": [
    "* The 'return_sequences' parameter specifies whether we want to obtain the hidden layer values at each time step. A false value for 'return_sequences' specifies that we want the hidden layer output only at the final timestep.\n",
    "\n",
    "* In a many-to-one task, where there are many inputs (one input in each time step) and outputs, 'return_sequences' will be false, resulting in the output being obtained only in the final time step. An example of this could be the stock price on the next day, given a sequence of historical five-day stock prices.\n",
    "\n",
    "* In cases where we try to obtain hidden-layer values in each time step, 'return_sequences' will be set to True. An example of this could be machine translation, where there are many inputs and many outputs."
   ]
  },
  {
   "cell_type": "code",
   "execution_count": 10,
   "metadata": {},
   "outputs": [
    {
     "name": "stdout",
     "output_type": "stream",
     "text": [
      "WARNING:tensorflow:From C:\\Users\\maninaya\\Anaconda3\\envs\\maninaya\\lib\\site-packages\\tensorflow\\python\\framework\\op_def_library.py:263: colocate_with (from tensorflow.python.framework.ops) is deprecated and will be removed in a future version.\n",
      "Instructions for updating:\n",
      "Colocations handled automatically by placer.\n"
     ]
    }
   ],
   "source": [
    "# define the model\n",
    "embed_length=1\n",
    "max_length=2\n",
    "model = Sequential()\n",
    "model.add(SimpleRNN(1,activation='tanh', return_sequences=False,recurrent_initializer='Zeros',input_shape=(max_length,embed_length),unroll=True))"
   ]
  },
  {
   "cell_type": "markdown",
   "metadata": {},
   "source": [
    "Connect the RNN output to five nodes of the output layer.\n",
    "\n",
    "* We have performed a Dense(5), as there are five possible classes of output (the output of each example has 5 values, where each value corresponds to the probability of it belonging to word ID 0 to word ID 4)."
   ]
  },
  {
   "cell_type": "code",
   "execution_count": 11,
   "metadata": {},
   "outputs": [],
   "source": [
    "model.add(Dense(5, activation='softmax'))"
   ]
  },
  {
   "cell_type": "markdown",
   "metadata": {},
   "source": [
    "Compile and summarize the model."
   ]
  },
  {
   "cell_type": "code",
   "execution_count": 12,
   "metadata": {},
   "outputs": [
    {
     "name": "stdout",
     "output_type": "stream",
     "text": [
      "_________________________________________________________________\n",
      "Layer (type)                 Output Shape              Param #   \n",
      "=================================================================\n",
      "simple_rnn_1 (SimpleRNN)     (None, 1)                 3         \n",
      "_________________________________________________________________\n",
      "dense_1 (Dense)              (None, 5)                 10        \n",
      "=================================================================\n",
      "Total params: 13\n",
      "Trainable params: 13\n",
      "Non-trainable params: 0\n",
      "_________________________________________________________________\n",
      "None\n"
     ]
    }
   ],
   "source": [
    "# compile the model\n",
    "model.compile(optimizer='adam', loss='categorical_crossentropy', metrics=['acc'])\n",
    "# summarize the model\n",
    "print(model.summary())"
   ]
  },
  {
   "cell_type": "markdown",
   "metadata": {},
   "source": [
    "Fit the model to predict the output from the input."
   ]
  },
  {
   "cell_type": "code",
   "execution_count": 13,
   "metadata": {},
   "outputs": [
    {
     "name": "stdout",
     "output_type": "stream",
     "text": [
      "WARNING:tensorflow:From C:\\Users\\maninaya\\Anaconda3\\envs\\maninaya\\lib\\site-packages\\tensorflow\\python\\ops\\math_ops.py:3066: to_int32 (from tensorflow.python.ops.math_ops) is deprecated and will be removed in a future version.\n",
      "Instructions for updating:\n",
      "Use tf.cast instead.\n",
      "Epoch 1/500\n",
      "2/2 [==============================] - 1s 269ms/step - loss: 1.3483 - acc: 0.5000\n",
      "Epoch 2/500\n",
      "2/2 [==============================] - 0s 1ms/step - loss: 1.3464 - acc: 0.5000\n",
      "Epoch 3/500\n",
      "2/2 [==============================] - 0s 1ms/step - loss: 1.3447 - acc: 0.5000\n",
      "Epoch 4/500\n",
      "2/2 [==============================] - 0s 998us/step - loss: 1.3430 - acc: 0.5000\n",
      "Epoch 5/500\n",
      "2/2 [==============================] - 0s 2ms/step - loss: 1.3412 - acc: 0.5000\n",
      "Epoch 6/500\n",
      "2/2 [==============================] - 0s 1ms/step - loss: 1.3393 - acc: 0.5000\n",
      "Epoch 7/500\n",
      "2/2 [==============================] - 0s 996us/step - loss: 1.3375 - acc: 0.5000\n",
      "Epoch 8/500\n",
      "2/2 [==============================] - 0s 1ms/step - loss: 1.3356 - acc: 0.5000\n",
      "Epoch 9/500\n",
      "2/2 [==============================] - 0s 997us/step - loss: 1.3337 - acc: 0.5000\n",
      "Epoch 10/500\n",
      "2/2 [==============================] - 0s 997us/step - loss: 1.3319 - acc: 0.5000\n",
      "Epoch 11/500\n",
      "2/2 [==============================] - 0s 997us/step - loss: 1.3300 - acc: 0.5000\n",
      "Epoch 12/500\n",
      "2/2 [==============================] - 0s 997us/step - loss: 1.3281 - acc: 0.5000\n",
      "Epoch 13/500\n",
      "2/2 [==============================] - 0s 498us/step - loss: 1.3262 - acc: 0.5000\n",
      "Epoch 14/500\n",
      "2/2 [==============================] - 0s 1ms/step - loss: 1.3243 - acc: 0.5000\n",
      "Epoch 15/500\n",
      "2/2 [==============================] - 0s 998us/step - loss: 1.3224 - acc: 0.5000\n",
      "Epoch 16/500\n",
      "2/2 [==============================] - 0s 998us/step - loss: 1.3205 - acc: 0.5000\n",
      "Epoch 17/500\n",
      "2/2 [==============================] - 0s 998us/step - loss: 1.3187 - acc: 0.5000\n",
      "Epoch 18/500\n",
      "2/2 [==============================] - 0s 998us/step - loss: 1.3168 - acc: 0.5000\n",
      "Epoch 19/500\n",
      "2/2 [==============================] - 0s 997us/step - loss: 1.3149 - acc: 0.5000\n",
      "Epoch 20/500\n",
      "2/2 [==============================] - 0s 1ms/step - loss: 1.3130 - acc: 0.5000\n",
      "Epoch 21/500\n",
      "2/2 [==============================] - 0s 997us/step - loss: 1.3112 - acc: 0.5000\n",
      "Epoch 22/500\n",
      "2/2 [==============================] - 0s 498us/step - loss: 1.3093 - acc: 0.5000\n",
      "Epoch 23/500\n",
      "2/2 [==============================] - 0s 997us/step - loss: 1.3074 - acc: 0.5000\n",
      "Epoch 24/500\n",
      "2/2 [==============================] - 0s 498us/step - loss: 1.3056 - acc: 0.5000\n",
      "Epoch 25/500\n",
      "2/2 [==============================] - 0s 2ms/step - loss: 1.3037 - acc: 0.5000\n",
      "Epoch 26/500\n",
      "2/2 [==============================] - 0s 998us/step - loss: 1.3019 - acc: 0.5000\n",
      "Epoch 27/500\n",
      "2/2 [==============================] - 0s 997us/step - loss: 1.3001 - acc: 0.5000\n",
      "Epoch 28/500\n",
      "2/2 [==============================] - 0s 1ms/step - loss: 1.2982 - acc: 0.5000\n",
      "Epoch 29/500\n",
      "2/2 [==============================] - 0s 1ms/step - loss: 1.2964 - acc: 0.5000\n",
      "Epoch 30/500\n",
      "2/2 [==============================] - 0s 996us/step - loss: 1.2946 - acc: 0.5000\n",
      "Epoch 31/500\n",
      "2/2 [==============================] - 0s 997us/step - loss: 1.2928 - acc: 0.5000\n",
      "Epoch 32/500\n",
      "2/2 [==============================] - 0s 998us/step - loss: 1.2909 - acc: 0.5000\n",
      "Epoch 33/500\n",
      "2/2 [==============================] - 0s 1ms/step - loss: 1.2891 - acc: 0.5000\n",
      "Epoch 34/500\n",
      "2/2 [==============================] - 0s 1ms/step - loss: 1.2873 - acc: 0.5000\n",
      "Epoch 35/500\n",
      "2/2 [==============================] - 0s 1ms/step - loss: 1.2855 - acc: 0.5000\n",
      "Epoch 36/500\n",
      "2/2 [==============================] - 0s 998us/step - loss: 1.2838 - acc: 0.5000\n",
      "Epoch 37/500\n",
      "2/2 [==============================] - 0s 998us/step - loss: 1.2820 - acc: 0.5000\n",
      "Epoch 38/500\n",
      "2/2 [==============================] - 0s 499us/step - loss: 1.2802 - acc: 0.5000\n",
      "Epoch 39/500\n",
      "2/2 [==============================] - 0s 998us/step - loss: 1.2784 - acc: 0.5000\n",
      "Epoch 40/500\n",
      "2/2 [==============================] - 0s 997us/step - loss: 1.2767 - acc: 0.5000\n",
      "Epoch 41/500\n",
      "2/2 [==============================] - 0s 997us/step - loss: 1.2749 - acc: 0.5000\n",
      "Epoch 42/500\n",
      "2/2 [==============================] - 0s 998us/step - loss: 1.2732 - acc: 0.5000\n",
      "Epoch 43/500\n",
      "2/2 [==============================] - 0s 997us/step - loss: 1.2714 - acc: 0.5000\n",
      "Epoch 44/500\n",
      "2/2 [==============================] - 0s 998us/step - loss: 1.2697 - acc: 0.5000\n",
      "Epoch 45/500\n",
      "2/2 [==============================] - 0s 499us/step - loss: 1.2679 - acc: 0.5000\n",
      "Epoch 46/500\n",
      "2/2 [==============================] - 0s 1ms/step - loss: 1.2662 - acc: 0.5000\n",
      "Epoch 47/500\n",
      "2/2 [==============================] - 0s 1ms/step - loss: 1.2645 - acc: 0.5000\n",
      "Epoch 48/500\n",
      "2/2 [==============================] - 0s 1ms/step - loss: 1.2628 - acc: 0.5000\n",
      "Epoch 49/500\n",
      "2/2 [==============================] - 0s 499us/step - loss: 1.2610 - acc: 0.5000\n",
      "Epoch 50/500\n",
      "2/2 [==============================] - 0s 998us/step - loss: 1.2593 - acc: 0.5000\n",
      "Epoch 51/500\n",
      "2/2 [==============================] - 0s 1ms/step - loss: 1.2576 - acc: 0.5000\n",
      "Epoch 52/500\n",
      "2/2 [==============================] - 0s 997us/step - loss: 1.2559 - acc: 0.5000\n",
      "Epoch 53/500\n",
      "2/2 [==============================] - 0s 998us/step - loss: 1.2543 - acc: 0.5000\n",
      "Epoch 54/500\n",
      "2/2 [==============================] - 0s 996us/step - loss: 1.2526 - acc: 0.5000\n",
      "Epoch 55/500\n",
      "2/2 [==============================] - 0s 1ms/step - loss: 1.2509 - acc: 0.5000\n",
      "Epoch 56/500\n",
      "2/2 [==============================] - 0s 998us/step - loss: 1.2492 - acc: 0.5000\n",
      "Epoch 57/500\n",
      "2/2 [==============================] - 0s 1ms/step - loss: 1.2476 - acc: 0.5000\n",
      "Epoch 58/500\n",
      "2/2 [==============================] - 0s 997us/step - loss: 1.2459 - acc: 0.5000\n",
      "Epoch 59/500\n",
      "2/2 [==============================] - 0s 1ms/step - loss: 1.2443 - acc: 0.5000\n",
      "Epoch 60/500\n",
      "2/2 [==============================] - 0s 1ms/step - loss: 1.2426 - acc: 0.5000\n",
      "Epoch 61/500\n",
      "2/2 [==============================] - 0s 1ms/step - loss: 1.2410 - acc: 0.5000\n",
      "Epoch 62/500\n",
      "2/2 [==============================] - 0s 998us/step - loss: 1.2393 - acc: 0.5000\n",
      "Epoch 63/500\n",
      "2/2 [==============================] - 0s 997us/step - loss: 1.2377 - acc: 0.5000\n",
      "Epoch 64/500\n",
      "2/2 [==============================] - 0s 998us/step - loss: 1.2361 - acc: 0.5000\n",
      "Epoch 65/500\n",
      "2/2 [==============================] - 0s 499us/step - loss: 1.2344 - acc: 0.5000\n",
      "Epoch 66/500\n",
      "2/2 [==============================] - 0s 998us/step - loss: 1.2328 - acc: 0.5000\n",
      "Epoch 67/500\n",
      "2/2 [==============================] - 0s 1ms/step - loss: 1.2312 - acc: 0.5000\n",
      "Epoch 68/500\n",
      "2/2 [==============================] - 0s 997us/step - loss: 1.2296 - acc: 0.5000\n",
      "Epoch 69/500\n",
      "2/2 [==============================] - 0s 1ms/step - loss: 1.2280 - acc: 0.5000\n",
      "Epoch 70/500\n",
      "2/2 [==============================] - 0s 998us/step - loss: 1.2264 - acc: 0.5000\n",
      "Epoch 71/500\n",
      "2/2 [==============================] - 0s 997us/step - loss: 1.2248 - acc: 0.5000\n",
      "Epoch 72/500\n",
      "2/2 [==============================] - 0s 998us/step - loss: 1.2233 - acc: 0.5000\n",
      "Epoch 73/500\n",
      "2/2 [==============================] - 0s 997us/step - loss: 1.2217 - acc: 0.5000\n",
      "Epoch 74/500\n",
      "2/2 [==============================] - 0s 997us/step - loss: 1.2201 - acc: 0.5000\n",
      "Epoch 75/500\n",
      "2/2 [==============================] - 0s 997us/step - loss: 1.2185 - acc: 0.5000\n",
      "Epoch 76/500\n",
      "2/2 [==============================] - 0s 998us/step - loss: 1.2170 - acc: 0.5000\n",
      "Epoch 77/500\n",
      "2/2 [==============================] - 0s 997us/step - loss: 1.2154 - acc: 0.5000\n",
      "Epoch 78/500\n",
      "2/2 [==============================] - 0s 1ms/step - loss: 1.2139 - acc: 0.5000\n",
      "Epoch 79/500\n",
      "2/2 [==============================] - 0s 997us/step - loss: 1.2123 - acc: 0.5000\n",
      "Epoch 80/500\n",
      "2/2 [==============================] - 0s 998us/step - loss: 1.2108 - acc: 0.5000\n",
      "Epoch 81/500\n",
      "2/2 [==============================] - 0s 997us/step - loss: 1.2093 - acc: 0.5000\n",
      "Epoch 82/500\n",
      "2/2 [==============================] - 0s 997us/step - loss: 1.2077 - acc: 0.5000\n",
      "Epoch 83/500\n",
      "2/2 [==============================] - 0s 998us/step - loss: 1.2062 - acc: 0.5000\n",
      "Epoch 84/500\n",
      "2/2 [==============================] - 0s 998us/step - loss: 1.2047 - acc: 0.5000\n"
     ]
    },
    {
     "name": "stdout",
     "output_type": "stream",
     "text": [
      "Epoch 85/500\n",
      "2/2 [==============================] - 0s 499us/step - loss: 1.2032 - acc: 0.5000\n",
      "Epoch 86/500\n",
      "2/2 [==============================] - 0s 997us/step - loss: 1.2017 - acc: 0.5000\n",
      "Epoch 87/500\n",
      "2/2 [==============================] - 0s 1ms/step - loss: 1.2002 - acc: 0.5000\n",
      "Epoch 88/500\n",
      "2/2 [==============================] - 0s 998us/step - loss: 1.1987 - acc: 0.5000\n",
      "Epoch 89/500\n",
      "2/2 [==============================] - 0s 997us/step - loss: 1.1972 - acc: 0.5000\n",
      "Epoch 90/500\n",
      "2/2 [==============================] - 0s 997us/step - loss: 1.1957 - acc: 0.5000\n",
      "Epoch 91/500\n",
      "2/2 [==============================] - 0s 1ms/step - loss: 1.1942 - acc: 0.5000\n",
      "Epoch 92/500\n",
      "2/2 [==============================] - 0s 998us/step - loss: 1.1928 - acc: 0.5000\n",
      "Epoch 93/500\n",
      "2/2 [==============================] - 0s 998us/step - loss: 1.1913 - acc: 0.5000\n",
      "Epoch 94/500\n",
      "2/2 [==============================] - 0s 997us/step - loss: 1.1898 - acc: 0.5000\n",
      "Epoch 95/500\n",
      "2/2 [==============================] - 0s 499us/step - loss: 1.1884 - acc: 0.5000\n",
      "Epoch 96/500\n",
      "2/2 [==============================] - 0s 997us/step - loss: 1.1869 - acc: 0.5000\n",
      "Epoch 97/500\n",
      "2/2 [==============================] - 0s 998us/step - loss: 1.1855 - acc: 0.5000\n",
      "Epoch 98/500\n",
      "2/2 [==============================] - 0s 998us/step - loss: 1.1840 - acc: 0.5000\n",
      "Epoch 99/500\n",
      "2/2 [==============================] - 0s 998us/step - loss: 1.1826 - acc: 0.5000\n",
      "Epoch 100/500\n",
      "2/2 [==============================] - 0s 1ms/step - loss: 1.1811 - acc: 0.5000\n",
      "Epoch 101/500\n",
      "2/2 [==============================] - 0s 998us/step - loss: 1.1797 - acc: 0.5000\n",
      "Epoch 102/500\n",
      "2/2 [==============================] - 0s 998us/step - loss: 1.1783 - acc: 0.5000\n",
      "Epoch 103/500\n",
      "2/2 [==============================] - 0s 997us/step - loss: 1.1769 - acc: 0.5000\n",
      "Epoch 104/500\n",
      "2/2 [==============================] - 0s 499us/step - loss: 1.1755 - acc: 0.5000\n",
      "Epoch 105/500\n",
      "2/2 [==============================] - 0s 997us/step - loss: 1.1740 - acc: 0.5000\n",
      "Epoch 106/500\n",
      "2/2 [==============================] - 0s 997us/step - loss: 1.1726 - acc: 0.5000\n",
      "Epoch 107/500\n",
      "2/2 [==============================] - 0s 997us/step - loss: 1.1712 - acc: 0.5000\n",
      "Epoch 108/500\n",
      "2/2 [==============================] - 0s 999us/step - loss: 1.1698 - acc: 0.5000\n",
      "Epoch 109/500\n",
      "2/2 [==============================] - 0s 998us/step - loss: 1.1685 - acc: 0.5000\n",
      "Epoch 110/500\n",
      "2/2 [==============================] - 0s 991us/step - loss: 1.1671 - acc: 0.5000\n",
      "Epoch 111/500\n",
      "2/2 [==============================] - 0s 997us/step - loss: 1.1657 - acc: 0.5000\n",
      "Epoch 112/500\n",
      "2/2 [==============================] - 0s 1ms/step - loss: 1.1643 - acc: 0.5000\n",
      "Epoch 113/500\n",
      "2/2 [==============================] - 0s 998us/step - loss: 1.1629 - acc: 0.5000\n",
      "Epoch 114/500\n",
      "2/2 [==============================] - 0s 998us/step - loss: 1.1616 - acc: 0.5000\n",
      "Epoch 115/500\n",
      "2/2 [==============================] - 0s 998us/step - loss: 1.1602 - acc: 0.5000\n",
      "Epoch 116/500\n",
      "2/2 [==============================] - 0s 997us/step - loss: 1.1589 - acc: 0.5000\n",
      "Epoch 117/500\n",
      "2/2 [==============================] - 0s 997us/step - loss: 1.1575 - acc: 0.5000\n",
      "Epoch 118/500\n",
      "2/2 [==============================] - 0s 498us/step - loss: 1.1562 - acc: 0.5000\n",
      "Epoch 119/500\n",
      "2/2 [==============================] - 0s 997us/step - loss: 1.1548 - acc: 0.5000\n",
      "Epoch 120/500\n",
      "2/2 [==============================] - 0s 997us/step - loss: 1.1535 - acc: 0.5000\n",
      "Epoch 121/500\n",
      "2/2 [==============================] - 0s 997us/step - loss: 1.1521 - acc: 0.5000\n",
      "Epoch 122/500\n",
      "2/2 [==============================] - 0s 998us/step - loss: 1.1508 - acc: 0.5000\n",
      "Epoch 123/500\n",
      "2/2 [==============================] - 0s 997us/step - loss: 1.1495 - acc: 0.5000\n",
      "Epoch 124/500\n",
      "2/2 [==============================] - 0s 1ms/step - loss: 1.1482 - acc: 0.5000\n",
      "Epoch 125/500\n",
      "2/2 [==============================] - 0s 997us/step - loss: 1.1469 - acc: 0.5000\n",
      "Epoch 126/500\n",
      "2/2 [==============================] - 0s 499us/step - loss: 1.1456 - acc: 0.5000\n",
      "Epoch 127/500\n",
      "2/2 [==============================] - 0s 998us/step - loss: 1.1442 - acc: 0.5000\n",
      "Epoch 128/500\n",
      "2/2 [==============================] - 0s 498us/step - loss: 1.1429 - acc: 0.5000\n",
      "Epoch 129/500\n",
      "2/2 [==============================] - 0s 1ms/step - loss: 1.1417 - acc: 0.5000\n",
      "Epoch 130/500\n",
      "2/2 [==============================] - 0s 997us/step - loss: 1.1404 - acc: 0.5000\n",
      "Epoch 131/500\n",
      "2/2 [==============================] - 0s 1ms/step - loss: 1.1391 - acc: 0.5000\n",
      "Epoch 132/500\n",
      "2/2 [==============================] - 0s 997us/step - loss: 1.1378 - acc: 0.5000\n",
      "Epoch 133/500\n",
      "2/2 [==============================] - 0s 998us/step - loss: 1.1365 - acc: 0.5000\n",
      "Epoch 134/500\n",
      "2/2 [==============================] - 0s 998us/step - loss: 1.1352 - acc: 0.5000\n",
      "Epoch 135/500\n",
      "2/2 [==============================] - 0s 1ms/step - loss: 1.1340 - acc: 0.5000\n",
      "Epoch 136/500\n",
      "2/2 [==============================] - 0s 1ms/step - loss: 1.1327 - acc: 0.5000\n",
      "Epoch 137/500\n",
      "2/2 [==============================] - 0s 984us/step - loss: 1.1314 - acc: 0.5000\n",
      "Epoch 138/500\n",
      "2/2 [==============================] - 0s 997us/step - loss: 1.1302 - acc: 0.5000\n",
      "Epoch 139/500\n",
      "2/2 [==============================] - 0s 997us/step - loss: 1.1289 - acc: 0.5000\n",
      "Epoch 140/500\n",
      "2/2 [==============================] - 0s 998us/step - loss: 1.1277 - acc: 0.5000\n",
      "Epoch 141/500\n",
      "2/2 [==============================] - 0s 998us/step - loss: 1.1265 - acc: 0.5000\n",
      "Epoch 142/500\n",
      "2/2 [==============================] - 0s 998us/step - loss: 1.1252 - acc: 0.5000\n",
      "Epoch 143/500\n",
      "2/2 [==============================] - 0s 1ms/step - loss: 1.1240 - acc: 0.5000\n",
      "Epoch 144/500\n",
      "2/2 [==============================] - 0s 998us/step - loss: 1.1228 - acc: 0.5000\n",
      "Epoch 145/500\n",
      "2/2 [==============================] - 0s 1ms/step - loss: 1.1215 - acc: 0.5000\n",
      "Epoch 146/500\n",
      "2/2 [==============================] - 0s 997us/step - loss: 1.1203 - acc: 0.5000\n",
      "Epoch 147/500\n",
      "2/2 [==============================] - 0s 997us/step - loss: 1.1191 - acc: 0.5000\n",
      "Epoch 148/500\n",
      "2/2 [==============================] - 0s 998us/step - loss: 1.1179 - acc: 0.5000\n",
      "Epoch 149/500\n",
      "2/2 [==============================] - 0s 995us/step - loss: 1.1167 - acc: 0.5000\n",
      "Epoch 150/500\n",
      "2/2 [==============================] - 0s 998us/step - loss: 1.1155 - acc: 0.5000\n",
      "Epoch 151/500\n",
      "2/2 [==============================] - 0s 499us/step - loss: 1.1143 - acc: 0.5000\n",
      "Epoch 152/500\n",
      "2/2 [==============================] - 0s 998us/step - loss: 1.1131 - acc: 0.5000\n",
      "Epoch 153/500\n",
      "2/2 [==============================] - 0s 997us/step - loss: 1.1119 - acc: 0.5000\n",
      "Epoch 154/500\n",
      "2/2 [==============================] - 0s 1ms/step - loss: 1.1107 - acc: 0.5000\n",
      "Epoch 155/500\n",
      "2/2 [==============================] - 0s 998us/step - loss: 1.1095 - acc: 0.5000\n",
      "Epoch 156/500\n",
      "2/2 [==============================] - 0s 998us/step - loss: 1.1083 - acc: 0.5000\n",
      "Epoch 157/500\n",
      "2/2 [==============================] - 0s 996us/step - loss: 1.1072 - acc: 0.5000\n",
      "Epoch 158/500\n",
      "2/2 [==============================] - 0s 997us/step - loss: 1.1060 - acc: 0.5000\n",
      "Epoch 159/500\n",
      "2/2 [==============================] - 0s 999us/step - loss: 1.1048 - acc: 0.5000\n",
      "Epoch 160/500\n",
      "2/2 [==============================] - 0s 998us/step - loss: 1.1037 - acc: 0.5000\n",
      "Epoch 161/500\n",
      "2/2 [==============================] - 0s 997us/step - loss: 1.1025 - acc: 0.5000\n",
      "Epoch 162/500\n",
      "2/2 [==============================] - 0s 998us/step - loss: 1.1014 - acc: 0.5000\n",
      "Epoch 163/500\n",
      "2/2 [==============================] - 0s 997us/step - loss: 1.1002 - acc: 0.5000\n",
      "Epoch 164/500\n",
      "2/2 [==============================] - 0s 499us/step - loss: 1.0991 - acc: 0.5000\n",
      "Epoch 165/500\n",
      "2/2 [==============================] - 0s 1ms/step - loss: 1.0979 - acc: 0.5000\n",
      "Epoch 166/500\n",
      "2/2 [==============================] - 0s 1ms/step - loss: 1.0968 - acc: 0.5000\n",
      "Epoch 167/500\n",
      "2/2 [==============================] - 0s 998us/step - loss: 1.0957 - acc: 0.5000\n",
      "Epoch 168/500\n",
      "2/2 [==============================] - 0s 998us/step - loss: 1.0945 - acc: 0.5000\n",
      "Epoch 169/500\n",
      "2/2 [==============================] - 0s 997us/step - loss: 1.0934 - acc: 0.5000\n",
      "Epoch 170/500\n",
      "2/2 [==============================] - 0s 998us/step - loss: 1.0923 - acc: 0.5000\n"
     ]
    },
    {
     "name": "stdout",
     "output_type": "stream",
     "text": [
      "Epoch 171/500\n",
      "2/2 [==============================] - 0s 1ms/step - loss: 1.0912 - acc: 0.5000\n",
      "Epoch 172/500\n",
      "2/2 [==============================] - 0s 1ms/step - loss: 1.0900 - acc: 0.5000\n",
      "Epoch 173/500\n",
      "2/2 [==============================] - 0s 1ms/step - loss: 1.0889 - acc: 0.5000\n",
      "Epoch 174/500\n",
      "2/2 [==============================] - 0s 998us/step - loss: 1.0878 - acc: 0.5000\n",
      "Epoch 175/500\n",
      "2/2 [==============================] - 0s 997us/step - loss: 1.0867 - acc: 0.5000\n",
      "Epoch 176/500\n",
      "2/2 [==============================] - 0s 998us/step - loss: 1.0856 - acc: 0.5000\n",
      "Epoch 177/500\n",
      "2/2 [==============================] - 0s 998us/step - loss: 1.0845 - acc: 0.5000\n",
      "Epoch 178/500\n",
      "2/2 [==============================] - 0s 997us/step - loss: 1.0834 - acc: 0.5000\n",
      "Epoch 179/500\n",
      "2/2 [==============================] - 0s 998us/step - loss: 1.0824 - acc: 0.5000\n",
      "Epoch 180/500\n",
      "2/2 [==============================] - 0s 998us/step - loss: 1.0813 - acc: 0.5000\n",
      "Epoch 181/500\n",
      "2/2 [==============================] - 0s 997us/step - loss: 1.0802 - acc: 0.5000\n",
      "Epoch 182/500\n",
      "2/2 [==============================] - 0s 997us/step - loss: 1.0791 - acc: 0.5000\n",
      "Epoch 183/500\n",
      "2/2 [==============================] - 0s 998us/step - loss: 1.0781 - acc: 0.5000\n",
      "Epoch 184/500\n",
      "2/2 [==============================] - 0s 1ms/step - loss: 1.0770 - acc: 0.5000\n",
      "Epoch 185/500\n",
      "2/2 [==============================] - 0s 998us/step - loss: 1.0759 - acc: 0.5000\n",
      "Epoch 186/500\n",
      "2/2 [==============================] - 0s 998us/step - loss: 1.0749 - acc: 0.5000\n",
      "Epoch 187/500\n",
      "2/2 [==============================] - 0s 998us/step - loss: 1.0738 - acc: 0.5000\n",
      "Epoch 188/500\n",
      "2/2 [==============================] - 0s 499us/step - loss: 1.0728 - acc: 0.5000\n",
      "Epoch 189/500\n",
      "2/2 [==============================] - 0s 998us/step - loss: 1.0717 - acc: 0.5000\n",
      "Epoch 190/500\n",
      "2/2 [==============================] - 0s 998us/step - loss: 1.0707 - acc: 0.5000\n",
      "Epoch 191/500\n",
      "2/2 [==============================] - 0s 998us/step - loss: 1.0696 - acc: 0.5000\n",
      "Epoch 192/500\n",
      "2/2 [==============================] - 0s 998us/step - loss: 1.0686 - acc: 0.5000\n",
      "Epoch 193/500\n",
      "2/2 [==============================] - 0s 1ms/step - loss: 1.0676 - acc: 0.5000\n",
      "Epoch 194/500\n",
      "2/2 [==============================] - 0s 1ms/step - loss: 1.0665 - acc: 0.5000\n",
      "Epoch 195/500\n",
      "2/2 [==============================] - 0s 997us/step - loss: 1.0655 - acc: 0.5000\n",
      "Epoch 196/500\n",
      "2/2 [==============================] - 0s 997us/step - loss: 1.0645 - acc: 0.5000\n",
      "Epoch 197/500\n",
      "2/2 [==============================] - 0s 1ms/step - loss: 1.0635 - acc: 0.5000\n",
      "Epoch 198/500\n",
      "2/2 [==============================] - 0s 1ms/step - loss: 1.0624 - acc: 0.5000\n",
      "Epoch 199/500\n",
      "2/2 [==============================] - 0s 997us/step - loss: 1.0614 - acc: 0.5000\n",
      "Epoch 200/500\n",
      "2/2 [==============================] - 0s 997us/step - loss: 1.0604 - acc: 0.5000\n",
      "Epoch 201/500\n",
      "2/2 [==============================] - 0s 1ms/step - loss: 1.0594 - acc: 0.5000\n",
      "Epoch 202/500\n",
      "2/2 [==============================] - 0s 997us/step - loss: 1.0584 - acc: 0.5000\n",
      "Epoch 203/500\n",
      "2/2 [==============================] - 0s 1ms/step - loss: 1.0574 - acc: 0.5000\n",
      "Epoch 204/500\n",
      "2/2 [==============================] - 0s 1ms/step - loss: 1.0564 - acc: 0.5000\n",
      "Epoch 205/500\n",
      "2/2 [==============================] - 0s 998us/step - loss: 1.0554 - acc: 0.5000\n",
      "Epoch 206/500\n",
      "2/2 [==============================] - 0s 1ms/step - loss: 1.0544 - acc: 0.5000\n",
      "Epoch 207/500\n",
      "2/2 [==============================] - 0s 998us/step - loss: 1.0535 - acc: 0.5000\n",
      "Epoch 208/500\n",
      "2/2 [==============================] - 0s 997us/step - loss: 1.0525 - acc: 0.5000\n",
      "Epoch 209/500\n",
      "2/2 [==============================] - 0s 998us/step - loss: 1.0515 - acc: 0.5000\n",
      "Epoch 210/500\n",
      "2/2 [==============================] - 0s 998us/step - loss: 1.0505 - acc: 0.5000\n",
      "Epoch 211/500\n",
      "2/2 [==============================] - 0s 998us/step - loss: 1.0496 - acc: 0.5000\n",
      "Epoch 212/500\n",
      "2/2 [==============================] - 0s 997us/step - loss: 1.0486 - acc: 0.5000\n",
      "Epoch 213/500\n",
      "2/2 [==============================] - 0s 998us/step - loss: 1.0476 - acc: 0.5000\n",
      "Epoch 214/500\n",
      "2/2 [==============================] - 0s 1ms/step - loss: 1.0467 - acc: 0.5000\n",
      "Epoch 215/500\n",
      "2/2 [==============================] - 0s 997us/step - loss: 1.0457 - acc: 0.5000\n",
      "Epoch 216/500\n",
      "2/2 [==============================] - 0s 997us/step - loss: 1.0448 - acc: 0.5000\n",
      "Epoch 217/500\n",
      "2/2 [==============================] - 0s 997us/step - loss: 1.0438 - acc: 0.5000\n",
      "Epoch 218/500\n",
      "2/2 [==============================] - 0s 2ms/step - loss: 1.0429 - acc: 0.5000\n",
      "Epoch 219/500\n",
      "2/2 [==============================] - 0s 995us/step - loss: 1.0419 - acc: 0.5000\n",
      "Epoch 220/500\n",
      "2/2 [==============================] - 0s 499us/step - loss: 1.0410 - acc: 0.5000\n",
      "Epoch 221/500\n",
      "2/2 [==============================] - 0s 998us/step - loss: 1.0400 - acc: 0.5000\n",
      "Epoch 222/500\n",
      "2/2 [==============================] - 0s 2ms/step - loss: 1.0391 - acc: 0.5000\n",
      "Epoch 223/500\n",
      "2/2 [==============================] - 0s 998us/step - loss: 1.0382 - acc: 0.5000\n",
      "Epoch 224/500\n",
      "2/2 [==============================] - 0s 998us/step - loss: 1.0372 - acc: 0.5000\n",
      "Epoch 225/500\n",
      "2/2 [==============================] - 0s 997us/step - loss: 1.0363 - acc: 0.5000\n",
      "Epoch 226/500\n",
      "2/2 [==============================] - 0s 1ms/step - loss: 1.0354 - acc: 0.5000\n",
      "Epoch 227/500\n",
      "2/2 [==============================] - 0s 2ms/step - loss: 1.0345 - acc: 0.5000\n",
      "Epoch 228/500\n",
      "2/2 [==============================] - 0s 499us/step - loss: 1.0336 - acc: 0.5000\n",
      "Epoch 229/500\n",
      "2/2 [==============================] - 0s 997us/step - loss: 1.0327 - acc: 0.5000\n",
      "Epoch 230/500\n",
      "2/2 [==============================] - 0s 2ms/step - loss: 1.0317 - acc: 0.5000\n",
      "Epoch 231/500\n",
      "2/2 [==============================] - 0s 499us/step - loss: 1.0308 - acc: 0.5000\n",
      "Epoch 232/500\n",
      "2/2 [==============================] - 0s 1ms/step - loss: 1.0299 - acc: 0.5000\n",
      "Epoch 233/500\n",
      "2/2 [==============================] - 0s 499us/step - loss: 1.0290 - acc: 0.5000\n",
      "Epoch 234/500\n",
      "2/2 [==============================] - 0s 1ms/step - loss: 1.0281 - acc: 0.5000\n",
      "Epoch 235/500\n",
      "2/2 [==============================] - 0s 998us/step - loss: 1.0273 - acc: 0.5000\n",
      "Epoch 236/500\n",
      "2/2 [==============================] - 0s 1ms/step - loss: 1.0264 - acc: 0.5000\n",
      "Epoch 237/500\n",
      "2/2 [==============================] - 0s 997us/step - loss: 1.0255 - acc: 0.5000\n",
      "Epoch 238/500\n",
      "2/2 [==============================] - 0s 998us/step - loss: 1.0246 - acc: 0.5000\n",
      "Epoch 239/500\n",
      "2/2 [==============================] - 0s 998us/step - loss: 1.0237 - acc: 0.5000\n",
      "Epoch 240/500\n",
      "2/2 [==============================] - 0s 1ms/step - loss: 1.0228 - acc: 0.5000\n",
      "Epoch 241/500\n",
      "2/2 [==============================] - 0s 994us/step - loss: 1.0220 - acc: 0.5000\n",
      "Epoch 242/500\n",
      "2/2 [==============================] - 0s 498us/step - loss: 1.0211 - acc: 0.5000\n",
      "Epoch 243/500\n",
      "2/2 [==============================] - 0s 499us/step - loss: 1.0202 - acc: 0.5000\n",
      "Epoch 244/500\n",
      "2/2 [==============================] - 0s 1ms/step - loss: 1.0194 - acc: 0.5000\n",
      "Epoch 245/500\n",
      "2/2 [==============================] - 0s 997us/step - loss: 1.0185 - acc: 0.5000\n",
      "Epoch 246/500\n",
      "2/2 [==============================] - 0s 997us/step - loss: 1.0176 - acc: 0.5000\n",
      "Epoch 247/500\n",
      "2/2 [==============================] - 0s 498us/step - loss: 1.0168 - acc: 0.5000\n",
      "Epoch 248/500\n",
      "2/2 [==============================] - 0s 998us/step - loss: 1.0159 - acc: 0.5000\n",
      "Epoch 249/500\n",
      "2/2 [==============================] - 0s 1ms/step - loss: 1.0151 - acc: 0.5000\n",
      "Epoch 250/500\n",
      "2/2 [==============================] - 0s 997us/step - loss: 1.0142 - acc: 0.5000\n",
      "Epoch 251/500\n",
      "2/2 [==============================] - 0s 997us/step - loss: 1.0134 - acc: 0.5000\n",
      "Epoch 252/500\n",
      "2/2 [==============================] - 0s 998us/step - loss: 1.0126 - acc: 0.5000\n",
      "Epoch 253/500\n",
      "2/2 [==============================] - 0s 997us/step - loss: 1.0117 - acc: 0.5000\n",
      "Epoch 254/500\n",
      "2/2 [==============================] - 0s 494us/step - loss: 1.0109 - acc: 0.5000\n",
      "Epoch 255/500\n",
      "2/2 [==============================] - 0s 998us/step - loss: 1.0101 - acc: 0.5000\n",
      "Epoch 256/500\n",
      "2/2 [==============================] - 0s 997us/step - loss: 1.0092 - acc: 0.5000\n"
     ]
    },
    {
     "name": "stdout",
     "output_type": "stream",
     "text": [
      "Epoch 257/500\n",
      "2/2 [==============================] - 0s 997us/step - loss: 1.0084 - acc: 0.5000\n",
      "Epoch 258/500\n",
      "2/2 [==============================] - 0s 499us/step - loss: 1.0076 - acc: 0.5000\n",
      "Epoch 259/500\n",
      "2/2 [==============================] - 0s 997us/step - loss: 1.0068 - acc: 0.5000\n",
      "Epoch 260/500\n",
      "2/2 [==============================] - 0s 993us/step - loss: 1.0059 - acc: 0.5000\n",
      "Epoch 261/500\n",
      "2/2 [==============================] - 0s 998us/step - loss: 1.0051 - acc: 0.5000\n",
      "Epoch 262/500\n",
      "2/2 [==============================] - 0s 998us/step - loss: 1.0043 - acc: 0.5000\n",
      "Epoch 263/500\n",
      "2/2 [==============================] - 0s 998us/step - loss: 1.0035 - acc: 0.5000\n",
      "Epoch 264/500\n",
      "2/2 [==============================] - 0s 1ms/step - loss: 1.0027 - acc: 0.5000\n",
      "Epoch 265/500\n",
      "2/2 [==============================] - 0s 1ms/step - loss: 1.0019 - acc: 0.5000\n",
      "Epoch 266/500\n",
      "2/2 [==============================] - 0s 997us/step - loss: 1.0011 - acc: 0.5000\n",
      "Epoch 267/500\n",
      "2/2 [==============================] - 0s 998us/step - loss: 1.0003 - acc: 0.5000\n",
      "Epoch 268/500\n",
      "2/2 [==============================] - 0s 998us/step - loss: 0.9995 - acc: 0.5000\n",
      "Epoch 269/500\n",
      "2/2 [==============================] - 0s 996us/step - loss: 0.9987 - acc: 0.5000\n",
      "Epoch 270/500\n",
      "2/2 [==============================] - 0s 997us/step - loss: 0.9979 - acc: 0.5000\n",
      "Epoch 271/500\n",
      "2/2 [==============================] - 0s 997us/step - loss: 0.9971 - acc: 0.5000\n",
      "Epoch 272/500\n",
      "2/2 [==============================] - 0s 997us/step - loss: 0.9963 - acc: 0.5000\n",
      "Epoch 273/500\n",
      "2/2 [==============================] - 0s 499us/step - loss: 0.9956 - acc: 0.5000\n",
      "Epoch 274/500\n",
      "2/2 [==============================] - 0s 998us/step - loss: 0.9948 - acc: 0.5000\n",
      "Epoch 275/500\n",
      "2/2 [==============================] - 0s 997us/step - loss: 0.9940 - acc: 0.5000\n",
      "Epoch 276/500\n",
      "2/2 [==============================] - 0s 497us/step - loss: 0.9932 - acc: 0.5000\n",
      "Epoch 277/500\n",
      "2/2 [==============================] - 0s 998us/step - loss: 0.9925 - acc: 0.5000\n",
      "Epoch 278/500\n",
      "2/2 [==============================] - 0s 1ms/step - loss: 0.9917 - acc: 0.5000\n",
      "Epoch 279/500\n",
      "2/2 [==============================] - 0s 992us/step - loss: 0.9909 - acc: 0.5000\n",
      "Epoch 280/500\n",
      "2/2 [==============================] - 0s 997us/step - loss: 0.9902 - acc: 0.5000\n",
      "Epoch 281/500\n",
      "2/2 [==============================] - 0s 1ms/step - loss: 0.9894 - acc: 0.5000\n",
      "Epoch 282/500\n",
      "2/2 [==============================] - 0s 499us/step - loss: 0.9886 - acc: 0.5000\n",
      "Epoch 283/500\n",
      "2/2 [==============================] - 0s 997us/step - loss: 0.9879 - acc: 0.5000\n",
      "Epoch 284/500\n",
      "2/2 [==============================] - 0s 998us/step - loss: 0.9871 - acc: 0.5000\n",
      "Epoch 285/500\n",
      "2/2 [==============================] - 0s 498us/step - loss: 0.9864 - acc: 0.5000\n",
      "Epoch 286/500\n",
      "2/2 [==============================] - 0s 499us/step - loss: 0.9856 - acc: 0.5000\n",
      "Epoch 287/500\n",
      "2/2 [==============================] - 0s 1ms/step - loss: 0.9849 - acc: 0.5000\n",
      "Epoch 288/500\n",
      "2/2 [==============================] - 0s 997us/step - loss: 0.9841 - acc: 0.5000\n",
      "Epoch 289/500\n",
      "2/2 [==============================] - 0s 997us/step - loss: 0.9834 - acc: 0.5000\n",
      "Epoch 290/500\n",
      "2/2 [==============================] - 0s 1ms/step - loss: 0.9827 - acc: 0.5000\n",
      "Epoch 291/500\n",
      "2/2 [==============================] - 0s 1ms/step - loss: 0.9819 - acc: 0.5000\n",
      "Epoch 292/500\n",
      "2/2 [==============================] - 0s 998us/step - loss: 0.9812 - acc: 0.5000\n",
      "Epoch 293/500\n",
      "2/2 [==============================] - 0s 499us/step - loss: 0.9805 - acc: 0.5000\n",
      "Epoch 294/500\n",
      "2/2 [==============================] - 0s 997us/step - loss: 0.9797 - acc: 0.5000\n",
      "Epoch 295/500\n",
      "2/2 [==============================] - 0s 1ms/step - loss: 0.9790 - acc: 0.5000\n",
      "Epoch 296/500\n",
      "2/2 [==============================] - 0s 998us/step - loss: 0.9783 - acc: 0.5000\n",
      "Epoch 297/500\n",
      "2/2 [==============================] - 0s 997us/step - loss: 0.9776 - acc: 0.5000\n",
      "Epoch 298/500\n",
      "2/2 [==============================] - 0s 998us/step - loss: 0.9769 - acc: 0.5000\n",
      "Epoch 299/500\n",
      "2/2 [==============================] - 0s 1ms/step - loss: 0.9761 - acc: 0.5000\n",
      "Epoch 300/500\n",
      "2/2 [==============================] - 0s 997us/step - loss: 0.9754 - acc: 0.5000\n",
      "Epoch 301/500\n",
      "2/2 [==============================] - 0s 998us/step - loss: 0.9747 - acc: 0.5000\n",
      "Epoch 302/500\n",
      "2/2 [==============================] - 0s 998us/step - loss: 0.9740 - acc: 0.5000\n",
      "Epoch 303/500\n",
      "2/2 [==============================] - 0s 998us/step - loss: 0.9733 - acc: 0.5000\n",
      "Epoch 304/500\n",
      "2/2 [==============================] - 0s 998us/step - loss: 0.9726 - acc: 0.5000\n",
      "Epoch 305/500\n",
      "2/2 [==============================] - 0s 998us/step - loss: 0.9719 - acc: 0.5000\n",
      "Epoch 306/500\n",
      "2/2 [==============================] - 0s 997us/step - loss: 0.9712 - acc: 0.5000\n",
      "Epoch 307/500\n",
      "2/2 [==============================] - 0s 1ms/step - loss: 0.9705 - acc: 0.5000\n",
      "Epoch 308/500\n",
      "2/2 [==============================] - 0s 1ms/step - loss: 0.9698 - acc: 0.5000\n",
      "Epoch 309/500\n",
      "2/2 [==============================] - 0s 1ms/step - loss: 0.9691 - acc: 0.5000\n",
      "Epoch 310/500\n",
      "2/2 [==============================] - 0s 999us/step - loss: 0.9684 - acc: 0.5000\n",
      "Epoch 311/500\n",
      "2/2 [==============================] - 0s 998us/step - loss: 0.9677 - acc: 0.5000\n",
      "Epoch 312/500\n",
      "2/2 [==============================] - 0s 499us/step - loss: 0.9671 - acc: 0.5000\n",
      "Epoch 313/500\n",
      "2/2 [==============================] - 0s 997us/step - loss: 0.9664 - acc: 0.5000\n",
      "Epoch 314/500\n",
      "2/2 [==============================] - 0s 2ms/step - loss: 0.9657 - acc: 0.5000\n",
      "Epoch 315/500\n",
      "2/2 [==============================] - 0s 998us/step - loss: 0.9650 - acc: 0.5000\n",
      "Epoch 316/500\n",
      "2/2 [==============================] - 0s 997us/step - loss: 0.9643 - acc: 0.5000\n",
      "Epoch 317/500\n",
      "2/2 [==============================] - 0s 998us/step - loss: 0.9637 - acc: 0.5000\n",
      "Epoch 318/500\n",
      "2/2 [==============================] - 0s 998us/step - loss: 0.9630 - acc: 0.5000\n",
      "Epoch 319/500\n",
      "2/2 [==============================] - 0s 998us/step - loss: 0.9623 - acc: 0.5000\n",
      "Epoch 320/500\n",
      "2/2 [==============================] - 0s 1ms/step - loss: 0.9617 - acc: 0.5000\n",
      "Epoch 321/500\n",
      "2/2 [==============================] - 0s 1ms/step - loss: 0.9610 - acc: 0.5000\n",
      "Epoch 322/500\n",
      "2/2 [==============================] - 0s 997us/step - loss: 0.9603 - acc: 0.5000\n",
      "Epoch 323/500\n",
      "2/2 [==============================] - 0s 998us/step - loss: 0.9597 - acc: 0.5000\n",
      "Epoch 324/500\n",
      "2/2 [==============================] - 0s 499us/step - loss: 0.9590 - acc: 0.5000\n",
      "Epoch 325/500\n",
      "2/2 [==============================] - 0s 998us/step - loss: 0.9584 - acc: 0.5000\n",
      "Epoch 326/500\n",
      "2/2 [==============================] - 0s 998us/step - loss: 0.9577 - acc: 0.5000\n",
      "Epoch 327/500\n",
      "2/2 [==============================] - 0s 997us/step - loss: 0.9571 - acc: 0.5000\n",
      "Epoch 328/500\n",
      "2/2 [==============================] - 0s 499us/step - loss: 0.9564 - acc: 0.5000\n",
      "Epoch 329/500\n",
      "2/2 [==============================] - 0s 1ms/step - loss: 0.9558 - acc: 0.5000\n",
      "Epoch 330/500\n",
      "2/2 [==============================] - 0s 1000us/step - loss: 0.9551 - acc: 0.5000\n",
      "Epoch 331/500\n",
      "2/2 [==============================] - 0s 998us/step - loss: 0.9545 - acc: 0.5000\n",
      "Epoch 332/500\n",
      "2/2 [==============================] - 0s 997us/step - loss: 0.9538 - acc: 0.5000\n",
      "Epoch 333/500\n",
      "2/2 [==============================] - 0s 1ms/step - loss: 0.9532 - acc: 0.5000\n",
      "Epoch 334/500\n",
      "2/2 [==============================] - 0s 997us/step - loss: 0.9526 - acc: 0.5000\n",
      "Epoch 335/500\n",
      "2/2 [==============================] - 0s 996us/step - loss: 0.9519 - acc: 0.5000\n",
      "Epoch 336/500\n",
      "2/2 [==============================] - 0s 997us/step - loss: 0.9513 - acc: 0.5000\n",
      "Epoch 337/500\n",
      "2/2 [==============================] - 0s 499us/step - loss: 0.9507 - acc: 0.5000\n",
      "Epoch 338/500\n",
      "2/2 [==============================] - 0s 997us/step - loss: 0.9500 - acc: 0.5000\n",
      "Epoch 339/500\n",
      "2/2 [==============================] - 0s 998us/step - loss: 0.9494 - acc: 0.5000\n",
      "Epoch 340/500\n",
      "2/2 [==============================] - 0s 997us/step - loss: 0.9488 - acc: 0.5000\n",
      "Epoch 341/500\n",
      "2/2 [==============================] - 0s 995us/step - loss: 0.9482 - acc: 0.5000\n",
      "Epoch 342/500\n",
      "2/2 [==============================] - 0s 997us/step - loss: 0.9476 - acc: 0.5000\n"
     ]
    },
    {
     "name": "stdout",
     "output_type": "stream",
     "text": [
      "Epoch 343/500\n",
      "2/2 [==============================] - 0s 998us/step - loss: 0.9469 - acc: 0.5000\n",
      "Epoch 344/500\n",
      "2/2 [==============================] - 0s 998us/step - loss: 0.9463 - acc: 0.5000\n",
      "Epoch 345/500\n",
      "2/2 [==============================] - 0s 997us/step - loss: 0.9457 - acc: 0.5000\n",
      "Epoch 346/500\n",
      "2/2 [==============================] - 0s 997us/step - loss: 0.9451 - acc: 0.5000\n",
      "Epoch 347/500\n",
      "2/2 [==============================] - 0s 997us/step - loss: 0.9445 - acc: 0.5000\n",
      "Epoch 348/500\n",
      "2/2 [==============================] - 0s 499us/step - loss: 0.9439 - acc: 0.5000\n",
      "Epoch 349/500\n",
      "2/2 [==============================] - 0s 991us/step - loss: 0.9433 - acc: 0.5000\n",
      "Epoch 350/500\n",
      "2/2 [==============================] - 0s 1ms/step - loss: 0.9427 - acc: 0.5000\n",
      "Epoch 351/500\n",
      "2/2 [==============================] - 0s 997us/step - loss: 0.9421 - acc: 0.5000\n",
      "Epoch 352/500\n",
      "2/2 [==============================] - 0s 997us/step - loss: 0.9415 - acc: 0.5000\n",
      "Epoch 353/500\n",
      "2/2 [==============================] - 0s 992us/step - loss: 0.9409 - acc: 0.5000\n",
      "Epoch 354/500\n",
      "2/2 [==============================] - 0s 499us/step - loss: 0.9403 - acc: 0.5000\n",
      "Epoch 355/500\n",
      "2/2 [==============================] - 0s 997us/step - loss: 0.9397 - acc: 0.5000\n",
      "Epoch 356/500\n",
      "2/2 [==============================] - 0s 997us/step - loss: 0.9391 - acc: 0.5000\n",
      "Epoch 357/500\n",
      "2/2 [==============================] - 0s 499us/step - loss: 0.9385 - acc: 0.5000\n",
      "Epoch 358/500\n",
      "2/2 [==============================] - 0s 997us/step - loss: 0.9379 - acc: 0.5000\n",
      "Epoch 359/500\n",
      "2/2 [==============================] - 0s 499us/step - loss: 0.9373 - acc: 0.5000\n",
      "Epoch 360/500\n",
      "2/2 [==============================] - 0s 997us/step - loss: 0.9368 - acc: 0.5000\n",
      "Epoch 361/500\n",
      "2/2 [==============================] - 0s 997us/step - loss: 0.9362 - acc: 0.5000\n",
      "Epoch 362/500\n",
      "2/2 [==============================] - 0s 1ms/step - loss: 0.9356 - acc: 0.5000\n",
      "Epoch 363/500\n",
      "2/2 [==============================] - 0s 998us/step - loss: 0.9350 - acc: 0.5000\n",
      "Epoch 364/500\n",
      "2/2 [==============================] - 0s 990us/step - loss: 0.9344 - acc: 0.5000\n",
      "Epoch 365/500\n",
      "2/2 [==============================] - 0s 998us/step - loss: 0.9339 - acc: 0.5000\n",
      "Epoch 366/500\n",
      "2/2 [==============================] - 0s 990us/step - loss: 0.9333 - acc: 0.5000\n",
      "Epoch 367/500\n",
      "2/2 [==============================] - 0s 1ms/step - loss: 0.9327 - acc: 0.5000\n",
      "Epoch 368/500\n",
      "2/2 [==============================] - 0s 997us/step - loss: 0.9322 - acc: 0.5000\n",
      "Epoch 369/500\n",
      "2/2 [==============================] - 0s 499us/step - loss: 0.9316 - acc: 0.5000\n",
      "Epoch 370/500\n",
      "2/2 [==============================] - 0s 1ms/step - loss: 0.9310 - acc: 0.5000\n",
      "Epoch 371/500\n",
      "2/2 [==============================] - 0s 997us/step - loss: 0.9305 - acc: 0.5000\n",
      "Epoch 372/500\n",
      "2/2 [==============================] - 0s 998us/step - loss: 0.9299 - acc: 0.5000\n",
      "Epoch 373/500\n",
      "2/2 [==============================] - 0s 997us/step - loss: 0.9294 - acc: 0.5000\n",
      "Epoch 374/500\n",
      "2/2 [==============================] - 0s 997us/step - loss: 0.9288 - acc: 0.5000\n",
      "Epoch 375/500\n",
      "2/2 [==============================] - 0s 997us/step - loss: 0.9282 - acc: 0.5000\n",
      "Epoch 376/500\n",
      "2/2 [==============================] - 0s 998us/step - loss: 0.9277 - acc: 0.5000\n",
      "Epoch 377/500\n",
      "2/2 [==============================] - 0s 997us/step - loss: 0.9271 - acc: 0.5000\n",
      "Epoch 378/500\n",
      "2/2 [==============================] - 0s 2ms/step - loss: 0.9266 - acc: 0.5000\n",
      "Epoch 379/500\n",
      "2/2 [==============================] - 0s 998us/step - loss: 0.9260 - acc: 0.5000\n",
      "Epoch 380/500\n",
      "2/2 [==============================] - 0s 1ms/step - loss: 0.9255 - acc: 0.5000\n",
      "Epoch 381/500\n",
      "2/2 [==============================] - 0s 998us/step - loss: 0.9249 - acc: 0.5000\n",
      "Epoch 382/500\n",
      "2/2 [==============================] - 0s 997us/step - loss: 0.9244 - acc: 0.5000\n",
      "Epoch 383/500\n",
      "2/2 [==============================] - 0s 997us/step - loss: 0.9239 - acc: 0.5000\n",
      "Epoch 384/500\n",
      "2/2 [==============================] - 0s 998us/step - loss: 0.9233 - acc: 0.5000\n",
      "Epoch 385/500\n",
      "2/2 [==============================] - 0s 1ms/step - loss: 0.9228 - acc: 0.5000\n",
      "Epoch 386/500\n",
      "2/2 [==============================] - 0s 992us/step - loss: 0.9223 - acc: 0.5000\n",
      "Epoch 387/500\n",
      "2/2 [==============================] - 0s 997us/step - loss: 0.9217 - acc: 0.5000\n",
      "Epoch 388/500\n",
      "2/2 [==============================] - 0s 998us/step - loss: 0.9212 - acc: 0.5000\n",
      "Epoch 389/500\n",
      "2/2 [==============================] - 0s 498us/step - loss: 0.9207 - acc: 0.5000\n",
      "Epoch 390/500\n",
      "2/2 [==============================] - 0s 1ms/step - loss: 0.9201 - acc: 0.5000\n",
      "Epoch 391/500\n",
      "2/2 [==============================] - 0s 998us/step - loss: 0.9196 - acc: 0.5000\n",
      "Epoch 392/500\n",
      "2/2 [==============================] - 0s 1ms/step - loss: 0.9191 - acc: 0.5000\n",
      "Epoch 393/500\n",
      "2/2 [==============================] - 0s 998us/step - loss: 0.9185 - acc: 0.5000\n",
      "Epoch 394/500\n",
      "2/2 [==============================] - 0s 2ms/step - loss: 0.9180 - acc: 0.5000\n",
      "Epoch 395/500\n",
      "2/2 [==============================] - 0s 996us/step - loss: 0.9175 - acc: 0.5000\n",
      "Epoch 396/500\n",
      "2/2 [==============================] - 0s 998us/step - loss: 0.9170 - acc: 0.5000\n",
      "Epoch 397/500\n",
      "2/2 [==============================] - 0s 997us/step - loss: 0.9165 - acc: 0.5000\n",
      "Epoch 398/500\n",
      "2/2 [==============================] - 0s 998us/step - loss: 0.9160 - acc: 0.5000\n",
      "Epoch 399/500\n",
      "2/2 [==============================] - 0s 1ms/step - loss: 0.9154 - acc: 0.5000\n",
      "Epoch 400/500\n",
      "2/2 [==============================] - 0s 998us/step - loss: 0.9149 - acc: 0.5000\n",
      "Epoch 401/500\n",
      "2/2 [==============================] - 0s 998us/step - loss: 0.9144 - acc: 0.5000\n",
      "Epoch 402/500\n",
      "2/2 [==============================] - 0s 1ms/step - loss: 0.9139 - acc: 0.5000\n",
      "Epoch 403/500\n",
      "2/2 [==============================] - 0s 998us/step - loss: 0.9134 - acc: 0.5000\n",
      "Epoch 404/500\n",
      "2/2 [==============================] - 0s 995us/step - loss: 0.9129 - acc: 0.5000\n",
      "Epoch 405/500\n",
      "2/2 [==============================] - 0s 998us/step - loss: 0.9124 - acc: 0.5000\n",
      "Epoch 406/500\n",
      "2/2 [==============================] - 0s 993us/step - loss: 0.9119 - acc: 0.5000\n",
      "Epoch 407/500\n",
      "2/2 [==============================] - 0s 998us/step - loss: 0.9114 - acc: 0.5000\n",
      "Epoch 408/500\n",
      "2/2 [==============================] - 0s 998us/step - loss: 0.9109 - acc: 0.5000\n",
      "Epoch 409/500\n",
      "2/2 [==============================] - 0s 998us/step - loss: 0.9104 - acc: 0.5000\n",
      "Epoch 410/500\n",
      "2/2 [==============================] - 0s 499us/step - loss: 0.9099 - acc: 0.5000\n",
      "Epoch 411/500\n",
      "2/2 [==============================] - 0s 1ms/step - loss: 0.9094 - acc: 0.5000\n",
      "Epoch 412/500\n",
      "2/2 [==============================] - 0s 998us/step - loss: 0.9089 - acc: 0.5000\n",
      "Epoch 413/500\n",
      "2/2 [==============================] - 0s 1ms/step - loss: 0.9084 - acc: 0.5000\n",
      "Epoch 414/500\n",
      "2/2 [==============================] - 0s 998us/step - loss: 0.9079 - acc: 0.5000\n",
      "Epoch 415/500\n",
      "2/2 [==============================] - 0s 998us/step - loss: 0.9074 - acc: 0.5000\n",
      "Epoch 416/500\n",
      "2/2 [==============================] - 0s 499us/step - loss: 0.9070 - acc: 0.5000\n",
      "Epoch 417/500\n",
      "2/2 [==============================] - 0s 997us/step - loss: 0.9065 - acc: 0.5000\n",
      "Epoch 418/500\n",
      "2/2 [==============================] - 0s 997us/step - loss: 0.9060 - acc: 0.5000\n",
      "Epoch 419/500\n",
      "2/2 [==============================] - 0s 1ms/step - loss: 0.9055 - acc: 0.5000\n",
      "Epoch 420/500\n",
      "2/2 [==============================] - 0s 499us/step - loss: 0.9050 - acc: 0.5000\n",
      "Epoch 421/500\n",
      "2/2 [==============================] - 0s 998us/step - loss: 0.9045 - acc: 0.5000\n",
      "Epoch 422/500\n",
      "2/2 [==============================] - 0s 998us/step - loss: 0.9041 - acc: 0.5000\n",
      "Epoch 423/500\n",
      "2/2 [==============================] - 0s 998us/step - loss: 0.9036 - acc: 0.5000\n",
      "Epoch 424/500\n",
      "2/2 [==============================] - 0s 998us/step - loss: 0.9031 - acc: 0.5000\n",
      "Epoch 425/500\n",
      "2/2 [==============================] - 0s 997us/step - loss: 0.9026 - acc: 0.5000\n",
      "Epoch 426/500\n",
      "2/2 [==============================] - 0s 998us/step - loss: 0.9022 - acc: 0.5000\n",
      "Epoch 427/500\n",
      "2/2 [==============================] - 0s 998us/step - loss: 0.9017 - acc: 0.5000\n",
      "Epoch 428/500\n",
      "2/2 [==============================] - 0s 998us/step - loss: 0.9012 - acc: 0.5000\n"
     ]
    },
    {
     "name": "stdout",
     "output_type": "stream",
     "text": [
      "Epoch 429/500\n",
      "2/2 [==============================] - 0s 499us/step - loss: 0.9008 - acc: 0.5000\n",
      "Epoch 430/500\n",
      "2/2 [==============================] - 0s 997us/step - loss: 0.9003 - acc: 0.5000\n",
      "Epoch 431/500\n",
      "2/2 [==============================] - 0s 997us/step - loss: 0.8998 - acc: 0.5000\n",
      "Epoch 432/500\n",
      "2/2 [==============================] - 0s 998us/step - loss: 0.8994 - acc: 0.5000\n",
      "Epoch 433/500\n",
      "2/2 [==============================] - 0s 997us/step - loss: 0.8989 - acc: 0.5000\n",
      "Epoch 434/500\n",
      "2/2 [==============================] - 0s 998us/step - loss: 0.8985 - acc: 0.5000\n",
      "Epoch 435/500\n",
      "2/2 [==============================] - 0s 997us/step - loss: 0.8980 - acc: 0.5000\n",
      "Epoch 436/500\n",
      "2/2 [==============================] - 0s 998us/step - loss: 0.8975 - acc: 0.5000\n",
      "Epoch 437/500\n",
      "2/2 [==============================] - 0s 997us/step - loss: 0.8971 - acc: 0.5000\n",
      "Epoch 438/500\n",
      "2/2 [==============================] - 0s 997us/step - loss: 0.8966 - acc: 0.5000\n",
      "Epoch 439/500\n",
      "2/2 [==============================] - 0s 998us/step - loss: 0.8962 - acc: 0.5000\n",
      "Epoch 440/500\n",
      "2/2 [==============================] - 0s 997us/step - loss: 0.8957 - acc: 0.5000\n",
      "Epoch 441/500\n",
      "2/2 [==============================] - 0s 997us/step - loss: 0.8953 - acc: 0.5000\n",
      "Epoch 442/500\n",
      "2/2 [==============================] - 0s 996us/step - loss: 0.8948 - acc: 0.5000\n",
      "Epoch 443/500\n",
      "2/2 [==============================] - 0s 997us/step - loss: 0.8944 - acc: 0.5000\n",
      "Epoch 444/500\n",
      "2/2 [==============================] - 0s 998us/step - loss: 0.8939 - acc: 0.5000\n",
      "Epoch 445/500\n",
      "2/2 [==============================] - 0s 1ms/step - loss: 0.8935 - acc: 0.5000\n",
      "Epoch 446/500\n",
      "2/2 [==============================] - 0s 997us/step - loss: 0.8931 - acc: 0.5000\n",
      "Epoch 447/500\n",
      "2/2 [==============================] - 0s 998us/step - loss: 0.8926 - acc: 0.5000\n",
      "Epoch 448/500\n",
      "2/2 [==============================] - 0s 997us/step - loss: 0.8922 - acc: 0.5000\n",
      "Epoch 449/500\n",
      "2/2 [==============================] - 0s 997us/step - loss: 0.8917 - acc: 0.5000\n",
      "Epoch 450/500\n",
      "2/2 [==============================] - 0s 997us/step - loss: 0.8913 - acc: 0.5000\n",
      "Epoch 451/500\n",
      "2/2 [==============================] - 0s 998us/step - loss: 0.8909 - acc: 0.5000\n",
      "Epoch 452/500\n",
      "2/2 [==============================] - 0s 998us/step - loss: 0.8904 - acc: 0.5000\n",
      "Epoch 453/500\n",
      "2/2 [==============================] - 0s 499us/step - loss: 0.8900 - acc: 0.5000\n",
      "Epoch 454/500\n",
      "2/2 [==============================] - 0s 998us/step - loss: 0.8896 - acc: 0.5000\n",
      "Epoch 455/500\n",
      "2/2 [==============================] - 0s 998us/step - loss: 0.8891 - acc: 0.5000\n",
      "Epoch 456/500\n",
      "2/2 [==============================] - 0s 1ms/step - loss: 0.8887 - acc: 0.5000\n",
      "Epoch 457/500\n",
      "2/2 [==============================] - 0s 998us/step - loss: 0.8883 - acc: 0.5000\n",
      "Epoch 458/500\n",
      "2/2 [==============================] - 0s 1ms/step - loss: 0.8878 - acc: 0.5000\n",
      "Epoch 459/500\n",
      "2/2 [==============================] - 0s 997us/step - loss: 0.8874 - acc: 0.5000\n",
      "Epoch 460/500\n",
      "2/2 [==============================] - 0s 997us/step - loss: 0.8870 - acc: 0.5000\n",
      "Epoch 461/500\n",
      "2/2 [==============================] - 0s 499us/step - loss: 0.8866 - acc: 0.5000\n",
      "Epoch 462/500\n",
      "2/2 [==============================] - 0s 1ms/step - loss: 0.8862 - acc: 0.5000\n",
      "Epoch 463/500\n",
      "2/2 [==============================] - 0s 997us/step - loss: 0.8857 - acc: 0.5000\n",
      "Epoch 464/500\n",
      "2/2 [==============================] - 0s 997us/step - loss: 0.8853 - acc: 0.5000\n",
      "Epoch 465/500\n",
      "2/2 [==============================] - 0s 998us/step - loss: 0.8849 - acc: 0.5000\n",
      "Epoch 466/500\n",
      "2/2 [==============================] - 0s 1ms/step - loss: 0.8845 - acc: 0.5000\n",
      "Epoch 467/500\n",
      "2/2 [==============================] - 0s 998us/step - loss: 0.8841 - acc: 0.5000\n",
      "Epoch 468/500\n",
      "2/2 [==============================] - 0s 997us/step - loss: 0.8836 - acc: 0.5000\n",
      "Epoch 469/500\n",
      "2/2 [==============================] - 0s 994us/step - loss: 0.8832 - acc: 0.5000\n",
      "Epoch 470/500\n",
      "2/2 [==============================] - 0s 1ms/step - loss: 0.8828 - acc: 0.5000\n",
      "Epoch 471/500\n",
      "2/2 [==============================] - 0s 997us/step - loss: 0.8824 - acc: 0.5000\n",
      "Epoch 472/500\n",
      "2/2 [==============================] - 0s 998us/step - loss: 0.8820 - acc: 0.5000\n",
      "Epoch 473/500\n",
      "2/2 [==============================] - 0s 2ms/step - loss: 0.8816 - acc: 0.5000\n",
      "Epoch 474/500\n",
      "2/2 [==============================] - 0s 998us/step - loss: 0.8812 - acc: 0.5000\n",
      "Epoch 475/500\n",
      "2/2 [==============================] - 0s 998us/step - loss: 0.8808 - acc: 0.5000\n",
      "Epoch 476/500\n",
      "2/2 [==============================] - 0s 998us/step - loss: 0.8804 - acc: 0.5000\n",
      "Epoch 477/500\n",
      "2/2 [==============================] - 0s 997us/step - loss: 0.8800 - acc: 0.5000\n",
      "Epoch 478/500\n",
      "2/2 [==============================] - 0s 998us/step - loss: 0.8796 - acc: 0.5000\n",
      "Epoch 479/500\n",
      "2/2 [==============================] - 0s 998us/step - loss: 0.8792 - acc: 0.5000\n",
      "Epoch 480/500\n",
      "2/2 [==============================] - 0s 499us/step - loss: 0.8788 - acc: 0.5000\n",
      "Epoch 481/500\n",
      "2/2 [==============================] - 0s 499us/step - loss: 0.8784 - acc: 0.5000\n",
      "Epoch 482/500\n",
      "2/2 [==============================] - 0s 997us/step - loss: 0.8780 - acc: 0.5000\n",
      "Epoch 483/500\n",
      "2/2 [==============================] - 0s 998us/step - loss: 0.8776 - acc: 0.5000\n",
      "Epoch 484/500\n",
      "2/2 [==============================] - 0s 1ms/step - loss: 0.8772 - acc: 0.5000\n",
      "Epoch 485/500\n",
      "2/2 [==============================] - 0s 1ms/step - loss: 0.8768 - acc: 0.5000\n",
      "Epoch 486/500\n",
      "2/2 [==============================] - 0s 1ms/step - loss: 0.8764 - acc: 0.5000\n",
      "Epoch 487/500\n",
      "2/2 [==============================] - 0s 498us/step - loss: 0.8760 - acc: 0.5000\n",
      "Epoch 488/500\n",
      "2/2 [==============================] - 0s 996us/step - loss: 0.8756 - acc: 0.5000\n",
      "Epoch 489/500\n",
      "2/2 [==============================] - 0s 997us/step - loss: 0.8752 - acc: 0.5000\n",
      "Epoch 490/500\n",
      "2/2 [==============================] - 0s 997us/step - loss: 0.8749 - acc: 0.5000\n",
      "Epoch 491/500\n",
      "2/2 [==============================] - 0s 998us/step - loss: 0.8745 - acc: 0.5000\n",
      "Epoch 492/500\n",
      "2/2 [==============================] - 0s 498us/step - loss: 0.8741 - acc: 0.5000\n",
      "Epoch 493/500\n",
      "2/2 [==============================] - 0s 997us/step - loss: 0.8737 - acc: 0.5000\n",
      "Epoch 494/500\n",
      "2/2 [==============================] - 0s 997us/step - loss: 0.8733 - acc: 0.5000\n",
      "Epoch 495/500\n",
      "2/2 [==============================] - 0s 997us/step - loss: 0.8729 - acc: 0.5000\n",
      "Epoch 496/500\n",
      "2/2 [==============================] - 0s 997us/step - loss: 0.8726 - acc: 0.5000\n",
      "Epoch 497/500\n",
      "2/2 [==============================] - 0s 997us/step - loss: 0.8722 - acc: 0.5000\n",
      "Epoch 498/500\n",
      "2/2 [==============================] - 0s 998us/step - loss: 0.8718 - acc: 0.5000\n",
      "Epoch 499/500\n",
      "2/2 [==============================] - 0s 499us/step - loss: 0.8714 - acc: 0.5000\n",
      "Epoch 500/500\n",
      "2/2 [==============================] - 0s 504us/step - loss: 0.8711 - acc: 0.5000\n"
     ]
    },
    {
     "data": {
      "text/plain": [
       "<keras.callbacks.History at 0x1833c519748>"
      ]
     },
     "execution_count": 13,
     "metadata": {},
     "output_type": "execute_result"
    }
   ],
   "source": [
    "model.fit(padded_docs,np.array(one_hot_encoded_labels),epochs=500)"
   ]
  },
  {
   "cell_type": "markdown",
   "metadata": {},
   "source": [
    "Extract prediction on the first input data point."
   ]
  },
  {
   "cell_type": "code",
   "execution_count": 14,
   "metadata": {},
   "outputs": [
    {
     "data": {
      "text/plain": [
       "array([[0.06150892, 0.07722024, 0.42594436, 0.02466969, 0.41065678]],\n",
       "      dtype=float32)"
      ]
     },
     "execution_count": 14,
     "metadata": {},
     "output_type": "execute_result"
    }
   ],
   "source": [
    "model.predict(padded_docs[0].reshape(1,2,1))"
   ]
  },
  {
   "cell_type": "markdown",
   "metadata": {},
   "source": [
    "Inspect the weights."
   ]
  },
  {
   "cell_type": "code",
   "execution_count": 15,
   "metadata": {},
   "outputs": [
    {
     "data": {
      "text/plain": [
       "[<tf.Variable 'simple_rnn_1/kernel:0' shape=(1, 1) dtype=float32_ref>,\n",
       " <tf.Variable 'simple_rnn_1/recurrent_kernel:0' shape=(1, 1) dtype=float32_ref>,\n",
       " <tf.Variable 'simple_rnn_1/bias:0' shape=(1,) dtype=float32_ref>,\n",
       " <tf.Variable 'dense_1/kernel:0' shape=(1, 5) dtype=float32_ref>,\n",
       " <tf.Variable 'dense_1/bias:0' shape=(5,) dtype=float32_ref>]"
      ]
     },
     "execution_count": 15,
     "metadata": {},
     "output_type": "execute_result"
    }
   ],
   "source": [
    "model.weights"
   ]
  },
  {
   "cell_type": "markdown",
   "metadata": {},
   "source": [
    "The above weights gives us an intuition of the order in which weights are presented in the output.\n",
    "\n",
    "* The kernel represents the weights and recurrent represents the connection of the hidden layer from one step to another.\n",
    "\n",
    "* A simpleRNN has weights that connect the input to the hidden layer and also weights that connect the previous time step's hidden layer to the current time step's hidden layer.\n",
    "\n",
    "* The kernel and bias in the dense_1 layer represent the layer that connects the hidden layer value to the final output"
   ]
  },
  {
   "cell_type": "markdown",
   "metadata": {},
   "source": [
    "The following line of code gives us the computed values of each of the weights."
   ]
  },
  {
   "cell_type": "code",
   "execution_count": 16,
   "metadata": {},
   "outputs": [
    {
     "data": {
      "text/plain": [
       "[array([[1.9012635]], dtype=float32),\n",
       " array([[0.31144455]], dtype=float32),\n",
       " array([0.3112596], dtype=float32),\n",
       " array([[ 0.12269498,  0.35384947,  1.3085266 , -0.8057373 ,  1.2569675 ]],\n",
       "       dtype=float32),\n",
       " array([-0.38604417, -0.38676906,  0.3783856 , -0.38306865,  0.3927357 ],\n",
       "       dtype=float32)]"
      ]
     },
     "execution_count": 16,
     "metadata": {},
     "output_type": "execute_result"
    }
   ],
   "source": [
    "model.get_weights()"
   ]
  },
  {
   "cell_type": "markdown",
   "metadata": {},
   "source": [
    "Pass the input through the first time step—the input is as follows."
   ]
  },
  {
   "cell_type": "code",
   "execution_count": 17,
   "metadata": {},
   "outputs": [
    {
     "data": {
      "text/plain": [
       "array([[3],\n",
       "       [1]])"
      ]
     },
     "execution_count": 17,
     "metadata": {},
     "output_type": "execute_result"
    }
   ],
   "source": [
    "padded_docs[0]"
   ]
  },
  {
   "cell_type": "markdown",
   "metadata": {},
   "source": [
    "In the preceding code, the first time step has a value of 3 and the second time step has a value of 1. We'll initialize the value at first time step as follows."
   ]
  },
  {
   "cell_type": "code",
   "execution_count": 18,
   "metadata": {},
   "outputs": [],
   "source": [
    "input_t0 = 3"
   ]
  },
  {
   "cell_type": "markdown",
   "metadata": {},
   "source": [
    "The value at the first time step is multiplied by the weight connecting the input to the hidden layer, then the bias value is added."
   ]
  },
  {
   "cell_type": "code",
   "execution_count": 19,
   "metadata": {},
   "outputs": [],
   "source": [
    "input_t0_kernel_bias = input_t0*model.get_weights()[0] + model.get_weights()[2]"
   ]
  },
  {
   "cell_type": "markdown",
   "metadata": {},
   "source": [
    "The hidden layer value at this time step is calculated by passing the preceding output through the tanh activation (as that is the activation we specified when we defined the model)."
   ]
  },
  {
   "cell_type": "code",
   "execution_count": 20,
   "metadata": {},
   "outputs": [],
   "source": [
    "hidden_layer0_value = np.tanh(input_t0_kernel_bias)"
   ]
  },
  {
   "cell_type": "markdown",
   "metadata": {},
   "source": [
    "Calculate the hidden-layer value at time step 2; where the input has a value of 1 (note the value of padded_docs[0] is [3, 1])"
   ]
  },
  {
   "cell_type": "code",
   "execution_count": 21,
   "metadata": {},
   "outputs": [],
   "source": [
    "input_t1 = 1"
   ]
  },
  {
   "cell_type": "markdown",
   "metadata": {},
   "source": [
    "The output value when the input at the second time step is passed through the weight and bias is as follows\n",
    "* Note: that the weights that multiply the input remain the same, regardless of the time step being considered"
   ]
  },
  {
   "cell_type": "markdown",
   "metadata": {},
   "source": [
    "The final calculation of the hidden-layer value at a given time step would be the summation of the preceding two matrix multiplications. Pass the result through a tanh activation function."
   ]
  },
  {
   "cell_type": "code",
   "execution_count": 22,
   "metadata": {},
   "outputs": [],
   "source": [
    "input_t1_kernel_bias = input_t1*model.get_weights()[0] + model.get_weights()[2]"
   ]
  },
  {
   "cell_type": "markdown",
   "metadata": {},
   "source": [
    "The calculation from the input layer to the hidden-layer constitutes two components\n",
    "\n",
    "* Matrix multiplication of the input layer value and kernel weights.\n",
    "* Matrix multiplication of the hidden layer of the previous time step and recurrent weights."
   ]
  },
  {
   "cell_type": "code",
   "execution_count": 23,
   "metadata": {},
   "outputs": [],
   "source": [
    "input_t1_recurrent = hidden_layer0_value*model.get_weights()[1]"
   ]
  },
  {
   "cell_type": "markdown",
   "metadata": {},
   "source": [
    "The total value before passing through the tanh activation is as follows."
   ]
  },
  {
   "cell_type": "code",
   "execution_count": 24,
   "metadata": {},
   "outputs": [],
   "source": [
    "total_input_t1 = input_t1_kernel_bias + input_t1_recurrent"
   ]
  },
  {
   "cell_type": "markdown",
   "metadata": {},
   "source": [
    "The output of the hidden-layer value is calculated by passing the preceding output through the tanh activation, as follows."
   ]
  },
  {
   "cell_type": "code",
   "execution_count": 25,
   "metadata": {},
   "outputs": [],
   "source": [
    "output_t1 = np.tanh(total_input_t1)"
   ]
  },
  {
   "cell_type": "markdown",
   "metadata": {},
   "source": [
    "Pass the hidden layer output from the final time step through the dense layer, which connects the hidden layer to the output layer.\n",
    "* Note that the fourth and fifth output of the model.get_weights() method correspond to the connection from the hidden layer to the output layer."
   ]
  },
  {
   "cell_type": "code",
   "execution_count": 26,
   "metadata": {},
   "outputs": [
    {
     "data": {
      "text/plain": [
       "array([[-0.26491517, -0.03743586,  1.6702111 , -1.1785221 ,  1.6336603 ]],\n",
       "      dtype=float32)"
      ]
     },
     "execution_count": 26,
     "metadata": {},
     "output_type": "execute_result"
    }
   ],
   "source": [
    "final_output = output_t1*model.get_weights()[3] + model.get_weights()[4]\n",
    "final_output"
   ]
  },
  {
   "cell_type": "markdown",
   "metadata": {},
   "source": [
    "Pass the preceding output through the softmax activation (as defined in the model) to obtain the final output."
   ]
  },
  {
   "cell_type": "code",
   "execution_count": 27,
   "metadata": {},
   "outputs": [
    {
     "data": {
      "text/plain": [
       "array([[0.06150893, 0.07722025, 0.42594433, 0.02466969, 0.4106568 ]],\n",
       "      dtype=float32)"
      ]
     },
     "execution_count": 27,
     "metadata": {},
     "output_type": "execute_result"
    }
   ],
   "source": [
    "np.exp(final_output)/np.sum(np.exp(final_output))"
   ]
  },
  {
   "cell_type": "markdown",
   "metadata": {},
   "source": [
    "We can notice that the output we obtained through the forward pass of input through the network is the same as what the model.predict() function gave as a output."
   ]
  },
  {
   "cell_type": "code",
   "execution_count": null,
   "metadata": {},
   "outputs": [],
   "source": []
  }
 ],
 "metadata": {
  "kernelspec": {
   "display_name": "Python 3",
   "language": "python",
   "name": "python3"
  },
  "language_info": {
   "codemirror_mode": {
    "name": "ipython",
    "version": 3
   },
   "file_extension": ".py",
   "mimetype": "text/x-python",
   "name": "python",
   "nbconvert_exporter": "python",
   "pygments_lexer": "ipython3",
   "version": "3.7.3"
  }
 },
 "nbformat": 4,
 "nbformat_minor": 2
}
